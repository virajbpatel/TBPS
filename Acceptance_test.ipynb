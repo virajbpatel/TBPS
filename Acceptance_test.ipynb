{
 "cells": [
  {
   "cell_type": "code",
   "execution_count": 64,
   "metadata": {},
   "outputs": [],
   "source": [
    "import pandas as pd\n",
    "import matplotlib.pyplot as plt\n",
    "import numpy as np\n",
    "from iminuit import Minuit\n",
    "import scipy.optimize as op"
   ]
  },
  {
   "cell_type": "code",
   "execution_count": 65,
   "metadata": {},
   "outputs": [],
   "source": [
    "# Load the monte-carlo simulated data from acceptance_mc.csv\n",
    "acceptance = pd.read_csv('acceptance_mc.csv')"
   ]
  },
  {
   "cell_type": "code",
   "execution_count": 66,
   "metadata": {},
   "outputs": [
    {
     "data": {
      "text/html": [
       "<div>\n",
       "<style scoped>\n",
       "    .dataframe tbody tr th:only-of-type {\n",
       "        vertical-align: middle;\n",
       "    }\n",
       "\n",
       "    .dataframe tbody tr th {\n",
       "        vertical-align: top;\n",
       "    }\n",
       "\n",
       "    .dataframe thead th {\n",
       "        text-align: right;\n",
       "    }\n",
       "</style>\n",
       "<table border=\"1\" class=\"dataframe\">\n",
       "  <thead>\n",
       "    <tr style=\"text-align: right;\">\n",
       "      <th></th>\n",
       "      <th>Unnamed: 0</th>\n",
       "      <th>mu_plus_MC15TuneV1_ProbNNk</th>\n",
       "      <th>mu_plus_MC15TuneV1_ProbNNpi</th>\n",
       "      <th>mu_plus_MC15TuneV1_ProbNNmu</th>\n",
       "      <th>mu_plus_MC15TuneV1_ProbNNe</th>\n",
       "      <th>mu_plus_MC15TuneV1_ProbNNp</th>\n",
       "      <th>mu_plus_P</th>\n",
       "      <th>mu_plus_PT</th>\n",
       "      <th>mu_plus_ETA</th>\n",
       "      <th>mu_plus_PHI</th>\n",
       "      <th>...</th>\n",
       "      <th>costhetak</th>\n",
       "      <th>B0_IPCHI2_OWNPV</th>\n",
       "      <th>B0_DIRA_OWNPV</th>\n",
       "      <th>B0_OWNPV_X</th>\n",
       "      <th>B0_OWNPV_Y</th>\n",
       "      <th>B0_OWNPV_Z</th>\n",
       "      <th>B0_FD_OWNPV</th>\n",
       "      <th>B0_ID</th>\n",
       "      <th>polarity</th>\n",
       "      <th>year</th>\n",
       "    </tr>\n",
       "  </thead>\n",
       "  <tbody>\n",
       "    <tr>\n",
       "      <th>0</th>\n",
       "      <td>0</td>\n",
       "      <td>0.000045</td>\n",
       "      <td>0.039243</td>\n",
       "      <td>0.999345</td>\n",
       "      <td>8.361805e-07</td>\n",
       "      <td>0.000001</td>\n",
       "      <td>47515.45</td>\n",
       "      <td>3035.832415</td>\n",
       "      <td>3.442694</td>\n",
       "      <td>-2.097649</td>\n",
       "      <td>...</td>\n",
       "      <td>-0.325254</td>\n",
       "      <td>0.706831</td>\n",
       "      <td>1.000000</td>\n",
       "      <td>0.8757</td>\n",
       "      <td>-0.1507</td>\n",
       "      <td>-67.1291</td>\n",
       "      <td>39.395123</td>\n",
       "      <td>511</td>\n",
       "      <td>1</td>\n",
       "      <td>2016</td>\n",
       "    </tr>\n",
       "    <tr>\n",
       "      <th>1</th>\n",
       "      <td>1</td>\n",
       "      <td>0.001295</td>\n",
       "      <td>0.118154</td>\n",
       "      <td>0.992041</td>\n",
       "      <td>2.135627e-07</td>\n",
       "      <td>0.000328</td>\n",
       "      <td>7465.87</td>\n",
       "      <td>1400.820724</td>\n",
       "      <td>2.357511</td>\n",
       "      <td>-0.076334</td>\n",
       "      <td>...</td>\n",
       "      <td>-0.929107</td>\n",
       "      <td>0.766567</td>\n",
       "      <td>0.999973</td>\n",
       "      <td>0.8690</td>\n",
       "      <td>-0.1879</td>\n",
       "      <td>-16.4842</td>\n",
       "      <td>3.848004</td>\n",
       "      <td>-511</td>\n",
       "      <td>1</td>\n",
       "      <td>2016</td>\n",
       "    </tr>\n",
       "    <tr>\n",
       "      <th>2</th>\n",
       "      <td>2</td>\n",
       "      <td>0.018971</td>\n",
       "      <td>0.052269</td>\n",
       "      <td>0.993025</td>\n",
       "      <td>1.504784e-05</td>\n",
       "      <td>0.029875</td>\n",
       "      <td>139095.95</td>\n",
       "      <td>4196.451282</td>\n",
       "      <td>4.193844</td>\n",
       "      <td>-0.511106</td>\n",
       "      <td>...</td>\n",
       "      <td>-0.539335</td>\n",
       "      <td>1.170415</td>\n",
       "      <td>1.000000</td>\n",
       "      <td>0.8587</td>\n",
       "      <td>-0.2014</td>\n",
       "      <td>15.6514</td>\n",
       "      <td>31.008944</td>\n",
       "      <td>511</td>\n",
       "      <td>1</td>\n",
       "      <td>2016</td>\n",
       "    </tr>\n",
       "    <tr>\n",
       "      <th>3</th>\n",
       "      <td>3</td>\n",
       "      <td>0.000231</td>\n",
       "      <td>0.259635</td>\n",
       "      <td>0.971924</td>\n",
       "      <td>6.076813e-05</td>\n",
       "      <td>0.000147</td>\n",
       "      <td>16229.29</td>\n",
       "      <td>2946.570852</td>\n",
       "      <td>2.390978</td>\n",
       "      <td>1.386500</td>\n",
       "      <td>...</td>\n",
       "      <td>0.379058</td>\n",
       "      <td>6.179803</td>\n",
       "      <td>0.999977</td>\n",
       "      <td>0.7812</td>\n",
       "      <td>-0.1659</td>\n",
       "      <td>16.0543</td>\n",
       "      <td>6.435185</td>\n",
       "      <td>-511</td>\n",
       "      <td>1</td>\n",
       "      <td>2016</td>\n",
       "    </tr>\n",
       "    <tr>\n",
       "      <th>4</th>\n",
       "      <td>4</td>\n",
       "      <td>0.005569</td>\n",
       "      <td>0.315182</td>\n",
       "      <td>0.973565</td>\n",
       "      <td>1.367964e-06</td>\n",
       "      <td>0.003432</td>\n",
       "      <td>24957.42</td>\n",
       "      <td>1914.807750</td>\n",
       "      <td>3.259226</td>\n",
       "      <td>-0.731608</td>\n",
       "      <td>...</td>\n",
       "      <td>0.105453</td>\n",
       "      <td>0.620364</td>\n",
       "      <td>1.000000</td>\n",
       "      <td>0.8997</td>\n",
       "      <td>-0.1221</td>\n",
       "      <td>-50.4380</td>\n",
       "      <td>11.638834</td>\n",
       "      <td>511</td>\n",
       "      <td>1</td>\n",
       "      <td>2016</td>\n",
       "    </tr>\n",
       "    <tr>\n",
       "      <th>...</th>\n",
       "      <td>...</td>\n",
       "      <td>...</td>\n",
       "      <td>...</td>\n",
       "      <td>...</td>\n",
       "      <td>...</td>\n",
       "      <td>...</td>\n",
       "      <td>...</td>\n",
       "      <td>...</td>\n",
       "      <td>...</td>\n",
       "      <td>...</td>\n",
       "      <td>...</td>\n",
       "      <td>...</td>\n",
       "      <td>...</td>\n",
       "      <td>...</td>\n",
       "      <td>...</td>\n",
       "      <td>...</td>\n",
       "      <td>...</td>\n",
       "      <td>...</td>\n",
       "      <td>...</td>\n",
       "      <td>...</td>\n",
       "      <td>...</td>\n",
       "    </tr>\n",
       "    <tr>\n",
       "      <th>716854</th>\n",
       "      <td>716854</td>\n",
       "      <td>0.000062</td>\n",
       "      <td>0.003175</td>\n",
       "      <td>0.999322</td>\n",
       "      <td>2.309370e-06</td>\n",
       "      <td>0.000001</td>\n",
       "      <td>21752.35</td>\n",
       "      <td>2737.286994</td>\n",
       "      <td>2.761919</td>\n",
       "      <td>-0.916564</td>\n",
       "      <td>...</td>\n",
       "      <td>-0.679964</td>\n",
       "      <td>0.145360</td>\n",
       "      <td>1.000000</td>\n",
       "      <td>0.8721</td>\n",
       "      <td>-0.1452</td>\n",
       "      <td>-29.0464</td>\n",
       "      <td>5.605457</td>\n",
       "      <td>511</td>\n",
       "      <td>1</td>\n",
       "      <td>2016</td>\n",
       "    </tr>\n",
       "    <tr>\n",
       "      <th>716855</th>\n",
       "      <td>716855</td>\n",
       "      <td>0.000737</td>\n",
       "      <td>0.031372</td>\n",
       "      <td>0.995584</td>\n",
       "      <td>6.899959e-06</td>\n",
       "      <td>0.000049</td>\n",
       "      <td>34724.83</td>\n",
       "      <td>2550.932812</td>\n",
       "      <td>3.302791</td>\n",
       "      <td>1.815204</td>\n",
       "      <td>...</td>\n",
       "      <td>0.104648</td>\n",
       "      <td>0.832383</td>\n",
       "      <td>1.000000</td>\n",
       "      <td>0.8011</td>\n",
       "      <td>-0.2018</td>\n",
       "      <td>-10.7847</td>\n",
       "      <td>13.046422</td>\n",
       "      <td>511</td>\n",
       "      <td>1</td>\n",
       "      <td>2016</td>\n",
       "    </tr>\n",
       "    <tr>\n",
       "      <th>716856</th>\n",
       "      <td>716856</td>\n",
       "      <td>0.729794</td>\n",
       "      <td>0.035291</td>\n",
       "      <td>0.725008</td>\n",
       "      <td>1.966208e-05</td>\n",
       "      <td>0.361820</td>\n",
       "      <td>4687.27</td>\n",
       "      <td>1431.843156</td>\n",
       "      <td>1.854845</td>\n",
       "      <td>0.050745</td>\n",
       "      <td>...</td>\n",
       "      <td>0.315782</td>\n",
       "      <td>0.507845</td>\n",
       "      <td>1.000000</td>\n",
       "      <td>0.8349</td>\n",
       "      <td>-0.1570</td>\n",
       "      <td>-0.9651</td>\n",
       "      <td>20.143577</td>\n",
       "      <td>-511</td>\n",
       "      <td>1</td>\n",
       "      <td>2016</td>\n",
       "    </tr>\n",
       "    <tr>\n",
       "      <th>716857</th>\n",
       "      <td>716857</td>\n",
       "      <td>0.000955</td>\n",
       "      <td>0.196032</td>\n",
       "      <td>0.940839</td>\n",
       "      <td>8.133744e-06</td>\n",
       "      <td>0.000119</td>\n",
       "      <td>48537.30</td>\n",
       "      <td>2644.574006</td>\n",
       "      <td>3.602227</td>\n",
       "      <td>-2.935226</td>\n",
       "      <td>...</td>\n",
       "      <td>-0.682951</td>\n",
       "      <td>0.631402</td>\n",
       "      <td>0.999998</td>\n",
       "      <td>0.8648</td>\n",
       "      <td>-0.1829</td>\n",
       "      <td>52.1866</td>\n",
       "      <td>7.341194</td>\n",
       "      <td>511</td>\n",
       "      <td>1</td>\n",
       "      <td>2016</td>\n",
       "    </tr>\n",
       "    <tr>\n",
       "      <th>716858</th>\n",
       "      <td>716858</td>\n",
       "      <td>0.003295</td>\n",
       "      <td>0.045994</td>\n",
       "      <td>0.999390</td>\n",
       "      <td>4.414659e-06</td>\n",
       "      <td>0.000216</td>\n",
       "      <td>64947.39</td>\n",
       "      <td>3762.878081</td>\n",
       "      <td>3.540700</td>\n",
       "      <td>-1.095291</td>\n",
       "      <td>...</td>\n",
       "      <td>0.488972</td>\n",
       "      <td>1.498670</td>\n",
       "      <td>0.999997</td>\n",
       "      <td>0.8349</td>\n",
       "      <td>-0.1844</td>\n",
       "      <td>17.6762</td>\n",
       "      <td>6.531394</td>\n",
       "      <td>-511</td>\n",
       "      <td>1</td>\n",
       "      <td>2016</td>\n",
       "    </tr>\n",
       "  </tbody>\n",
       "</table>\n",
       "<p>716859 rows × 82 columns</p>\n",
       "</div>"
      ],
      "text/plain": [
       "        Unnamed: 0  mu_plus_MC15TuneV1_ProbNNk  mu_plus_MC15TuneV1_ProbNNpi  \\\n",
       "0                0                    0.000045                     0.039243   \n",
       "1                1                    0.001295                     0.118154   \n",
       "2                2                    0.018971                     0.052269   \n",
       "3                3                    0.000231                     0.259635   \n",
       "4                4                    0.005569                     0.315182   \n",
       "...            ...                         ...                          ...   \n",
       "716854      716854                    0.000062                     0.003175   \n",
       "716855      716855                    0.000737                     0.031372   \n",
       "716856      716856                    0.729794                     0.035291   \n",
       "716857      716857                    0.000955                     0.196032   \n",
       "716858      716858                    0.003295                     0.045994   \n",
       "\n",
       "        mu_plus_MC15TuneV1_ProbNNmu  mu_plus_MC15TuneV1_ProbNNe  \\\n",
       "0                          0.999345                8.361805e-07   \n",
       "1                          0.992041                2.135627e-07   \n",
       "2                          0.993025                1.504784e-05   \n",
       "3                          0.971924                6.076813e-05   \n",
       "4                          0.973565                1.367964e-06   \n",
       "...                             ...                         ...   \n",
       "716854                     0.999322                2.309370e-06   \n",
       "716855                     0.995584                6.899959e-06   \n",
       "716856                     0.725008                1.966208e-05   \n",
       "716857                     0.940839                8.133744e-06   \n",
       "716858                     0.999390                4.414659e-06   \n",
       "\n",
       "        mu_plus_MC15TuneV1_ProbNNp  mu_plus_P   mu_plus_PT  mu_plus_ETA  \\\n",
       "0                         0.000001   47515.45  3035.832415     3.442694   \n",
       "1                         0.000328    7465.87  1400.820724     2.357511   \n",
       "2                         0.029875  139095.95  4196.451282     4.193844   \n",
       "3                         0.000147   16229.29  2946.570852     2.390978   \n",
       "4                         0.003432   24957.42  1914.807750     3.259226   \n",
       "...                            ...        ...          ...          ...   \n",
       "716854                    0.000001   21752.35  2737.286994     2.761919   \n",
       "716855                    0.000049   34724.83  2550.932812     3.302791   \n",
       "716856                    0.361820    4687.27  1431.843156     1.854845   \n",
       "716857                    0.000119   48537.30  2644.574006     3.602227   \n",
       "716858                    0.000216   64947.39  3762.878081     3.540700   \n",
       "\n",
       "        mu_plus_PHI  ...  costhetak  B0_IPCHI2_OWNPV  B0_DIRA_OWNPV  \\\n",
       "0         -2.097649  ...  -0.325254         0.706831       1.000000   \n",
       "1         -0.076334  ...  -0.929107         0.766567       0.999973   \n",
       "2         -0.511106  ...  -0.539335         1.170415       1.000000   \n",
       "3          1.386500  ...   0.379058         6.179803       0.999977   \n",
       "4         -0.731608  ...   0.105453         0.620364       1.000000   \n",
       "...             ...  ...        ...              ...            ...   \n",
       "716854    -0.916564  ...  -0.679964         0.145360       1.000000   \n",
       "716855     1.815204  ...   0.104648         0.832383       1.000000   \n",
       "716856     0.050745  ...   0.315782         0.507845       1.000000   \n",
       "716857    -2.935226  ...  -0.682951         0.631402       0.999998   \n",
       "716858    -1.095291  ...   0.488972         1.498670       0.999997   \n",
       "\n",
       "        B0_OWNPV_X  B0_OWNPV_Y  B0_OWNPV_Z  B0_FD_OWNPV  B0_ID  polarity  year  \n",
       "0           0.8757     -0.1507    -67.1291    39.395123    511         1  2016  \n",
       "1           0.8690     -0.1879    -16.4842     3.848004   -511         1  2016  \n",
       "2           0.8587     -0.2014     15.6514    31.008944    511         1  2016  \n",
       "3           0.7812     -0.1659     16.0543     6.435185   -511         1  2016  \n",
       "4           0.8997     -0.1221    -50.4380    11.638834    511         1  2016  \n",
       "...            ...         ...         ...          ...    ...       ...   ...  \n",
       "716854      0.8721     -0.1452    -29.0464     5.605457    511         1  2016  \n",
       "716855      0.8011     -0.2018    -10.7847    13.046422    511         1  2016  \n",
       "716856      0.8349     -0.1570     -0.9651    20.143577   -511         1  2016  \n",
       "716857      0.8648     -0.1829     52.1866     7.341194    511         1  2016  \n",
       "716858      0.8349     -0.1844     17.6762     6.531394   -511         1  2016  \n",
       "\n",
       "[716859 rows x 82 columns]"
      ]
     },
     "execution_count": 66,
     "metadata": {},
     "output_type": "execute_result"
    }
   ],
   "source": [
    "acceptance"
   ]
  },
  {
   "cell_type": "code",
   "execution_count": 67,
   "metadata": {},
   "outputs": [
    {
     "data": {
      "image/png": "[encoded data removed]",
      "text/plain": [
       "<Figure size 432x288 with 1 Axes>"
      ]
     },
     "metadata": {
      "needs_background": "light"
     },
     "output_type": "display_data"
    }
   ],
   "source": [
    "plt.hist(acceptance['costhetak'], bins=25, density = True, histtype = 'step')\n",
    "plt.xlabel(r'$cos(\\theta_k)$')\n",
    "plt.ylabel(r'Number of candidates')\n",
    "plt.grid()\n",
    "plt.show()"
   ]
  },
  {
   "cell_type": "code",
   "execution_count": 68,
   "metadata": {},
   "outputs": [
    {
     "data": {
      "image/png": "[encoded data removed]",
      "text/plain": [
       "<Figure size 432x288 with 1 Axes>"
      ]
     },
     "metadata": {
      "needs_background": "light"
     },
     "output_type": "display_data"
    }
   ],
   "source": [
    "plt.hist(acceptance['costhetal'], bins=25, density = True, histtype = 'step')\n",
    "plt.xlabel(r'$cos(\\theta_l)$')\n",
    "plt.ylabel(r'Number of candidates')\n",
    "plt.grid()\n",
    "plt.show()"
   ]
  },
  {
   "cell_type": "code",
   "execution_count": 69,
   "metadata": {},
   "outputs": [
    {
     "data": {
      "image/png": "[encoded data removed]",
      "text/plain": [
       "<Figure size 432x288 with 1 Axes>"
      ]
     },
     "metadata": {
      "needs_background": "light"
     },
     "output_type": "display_data"
    }
   ],
   "source": [
    "plt.hist(acceptance['phi'], bins = 25, density = True, histtype = 'step')\n",
    "plt.xlabel(r'$\\phi$')\n",
    "plt.ylabel(r'Number of candidates')\n",
    "plt.grid()\n",
    "plt.show()"
   ]
  },
  {
   "cell_type": "code",
   "execution_count": 70,
   "metadata": {},
   "outputs": [],
   "source": [
    "# Load one of the toy data files\n",
    "toy_data_bin_3 = pd.read_csv('toy_data_bin_0.csv')"
   ]
  },
  {
   "cell_type": "code",
   "execution_count": 71,
   "metadata": {},
   "outputs": [
    {
     "data": {
      "image/png": "[encoded data removed]",
      "text/plain": [
       "<Figure size 432x288 with 1 Axes>"
      ]
     },
     "metadata": {
      "needs_background": "light"
     },
     "output_type": "display_data"
    }
   ],
   "source": [
    "plt.hist(toy_data_bin_3['ctl'], bins = 25, density = True, histtype = 'step')\n",
    "plt.xlabel(r'$cos(\\theta_l)$')\n",
    "plt.ylabel(r'Number of candidates')\n",
    "plt.grid()\n",
    "plt.show()"
   ]
  },
  {
   "cell_type": "code",
   "execution_count": 72,
   "metadata": {},
   "outputs": [
    {
     "data": {
      "image/png": "[encoded data removed]",
      "text/plain": [
       "<Figure size 432x288 with 1 Axes>"
      ]
     },
     "metadata": {
      "needs_background": "light"
     },
     "output_type": "display_data"
    }
   ],
   "source": [
    "# Compare the plot for cos(theta_l) for the acceptance_mc data and toy_data_bin_3\n",
    "\n",
    "binh_mc_l, bine_mc_l, etc_mc_l = plt.hist(acceptance['costhetal'], bins=25, density = True, histtype = 'step', label = \"MC data\")\n",
    "binh_3_l, bine_3_l, etc_3_l = plt.hist(toy_data_bin_3['ctl'], bins = 25, density = True, histtype = 'step', label = \"toy data\")\n",
    "plt.xlabel(r'$cos(\\theta_l)$')\n",
    "plt.ylabel(r'Number of candidates')\n",
    "plt.legend()\n",
    "plt.grid()\n",
    "plt.show()"
   ]
  },
  {
   "cell_type": "code",
   "execution_count": 73,
   "metadata": {},
   "outputs": [
    {
     "data": {
      "text/plain": [
       "Text(0, 0.5, '$Acceptance$')"
      ]
     },
     "execution_count": 73,
     "metadata": {},
     "output_type": "execute_result"
    },
    {
     "data": {
      "image/png": "[encoded data removed]",
      "text/plain": [
       "<Figure size 432x288 with 1 Axes>"
      ]
     },
     "metadata": {
      "needs_background": "light"
     },
     "output_type": "display_data"
    }
   ],
   "source": [
    "def ratio(a,b):\n",
    "    return a/b\n",
    "\n",
    "def acceptance_func(x,a,b,c,d,f,g,h):\n",
    "    y = a*x**6 + b*x**5 + c*x**4 + d*x**3 + f*x**2 + g*x + h\n",
    "    return y\n",
    "\n",
    "def center_bins(bin_edge):\n",
    "    bin_center = bin_edge[:-1] + (bin_edge[1] - bin_edge[0])/2\n",
    "    return bin_center\n",
    "\n",
    "binc_mc_l = center_bins(bine_mc_l)\n",
    "bin_ratio_l = ratio(binh_3_l, binh_mc_l)\n",
    "\n",
    "params_l, cov_l = op.curve_fit(acceptance_func, bine_mc_l[:-1], bin_ratio_l)\n",
    "\n",
    "cos_theta_l = np.linspace(-1,1,100000)\n",
    "acc_cos_theta_l = acceptance_func(cos_theta_l, *params_l)\n",
    "\n",
    "plt.plot(binc_mc_l, bin_ratio_l, '.')\n",
    "plt.plot(cos_theta_l, acc_cos_theta_l)\n",
    "plt.xlabel(r'$cos(\\theta_l)$')\n",
    "plt.ylabel(r'$Acceptance$')\n"
   ]
  },
  {
   "cell_type": "code",
   "execution_count": 74,
   "metadata": {},
   "outputs": [
    {
     "data": {
      "image/png": "[encoded data removed]",
      "text/plain": [
       "<Figure size 432x288 with 1 Axes>"
      ]
     },
     "metadata": {
      "needs_background": "light"
     },
     "output_type": "display_data"
    }
   ],
   "source": [
    "# Repeat for cos(theta_k) \n",
    "\n",
    "binh_mc_k, bine_mc_k, etc_mc_k = plt.hist(acceptance['costhetak'], bins=25, density = True, histtype = 'step', label = \"MC data\")\n",
    "binh_3_k, bine_3_k, etc_3_k = plt.hist(toy_data_bin_3['ctk'], bins = 25, density = True, histtype = 'step', label = \"toy data\")\n",
    "plt.xlabel(r'$cos(\\theta_k)$')\n",
    "plt.ylabel(r'Number of candidates')\n",
    "plt.legend()\n",
    "plt.grid()\n",
    "plt.show()"
   ]
  },
  {
   "cell_type": "code",
   "execution_count": 75,
   "metadata": {},
   "outputs": [
    {
     "data": {
      "text/plain": [
       "Text(0, 0.5, '$Acceptance$')"
      ]
     },
     "execution_count": 75,
     "metadata": {},
     "output_type": "execute_result"
    },
    {
     "data": {
      "image/png": "[encoded data removed]",
      "text/plain": [
       "<Figure size 432x288 with 1 Axes>"
      ]
     },
     "metadata": {
      "needs_background": "light"
     },
     "output_type": "display_data"
    }
   ],
   "source": [
    "binc_mc_k = center_bins(bine_mc_k)\n",
    "bin_ratio_k = ratio(binh_3_k, binh_mc_k)\n",
    "\n",
    "params_k, cov_k = op.curve_fit(acceptance_func, bine_mc_k[:-1], bin_ratio_k)\n",
    "\n",
    "cos_theta_k = np.linspace(-1,1,100000)\n",
    "acc_cos_theta_k = acceptance_func(cos_theta_k, *params_k)\n",
    "\n",
    "plt.plot(binc_mc_k, bin_ratio_k, '.')\n",
    "plt.plot(cos_theta_k, acc_cos_theta_k)\n",
    "plt.xlabel(r'$cos(\\theta_k)$')\n",
    "plt.ylabel(r'$Acceptance$')"
   ]
  },
  {
   "cell_type": "code",
   "execution_count": 76,
   "metadata": {},
   "outputs": [
    {
     "data": {
      "image/png": "[encoded data removed]",
      "text/plain": [
       "<Figure size 432x288 with 1 Axes>"
      ]
     },
     "metadata": {
      "needs_background": "light"
     },
     "output_type": "display_data"
    }
   ],
   "source": [
    "# Repeat for phi\n",
    "\n",
    "binh_mc_p, bine_mc_p, etc_mc_p = plt.hist(acceptance['phi'], bins=25, density = True, histtype = 'step', label = \"MC data\")\n",
    "binh_3_p, bine_3_p, etc_3_p = plt.hist(toy_data_bin_3['phi'], bins = 25, density = True, histtype = 'step', label = \"toy data\")\n",
    "plt.xlabel(r'$cos(\\phi)$')\n",
    "plt.ylabel(r'Number of candidates')\n",
    "plt.legend()\n",
    "plt.grid()\n",
    "plt.show()"
   ]
  },
  {
   "cell_type": "code",
   "execution_count": 77,
   "metadata": {},
   "outputs": [
    {
     "data": {
      "text/plain": [
       "Text(0, 0.5, '$Acceptance$')"
      ]
     },
     "execution_count": 77,
     "metadata": {},
     "output_type": "execute_result"
    },
    {
     "data": {
      "image/png": "[encoded data removed]",
      "text/plain": [
       "<Figure size 432x288 with 1 Axes>"
      ]
     },
     "metadata": {
      "needs_background": "light"
     },
     "output_type": "display_data"
    }
   ],
   "source": [
    "binc_mc_p = center_bins(bine_mc_p)\n",
    "bin_ratio_p = ratio(binh_3_p, binh_mc_p)\n",
    "\n",
    "params_p, cov_p = op.curve_fit(acceptance_func, bine_mc_p[:-1], bin_ratio_p)\n",
    "\n",
    "phi = np.linspace(-3,3,100000)\n",
    "acc_phi = acceptance_func(phi, *params_p)\n",
    "\n",
    "plt.plot(binc_mc_p, bin_ratio_p, '.')\n",
    "plt.plot(phi, acc_phi)\n",
    "plt.xlabel(r'$\\phi$')\n",
    "plt.ylabel(r'$Acceptance$')"
   ]
  },
  {
   "cell_type": "code",
   "execution_count": null,
   "metadata": {},
   "outputs": [],
   "source": [
    "# normalise the scalar array\n",
    "# normalised scalar array = scalar_array * acceptance_function * normalisation_factor"
   ]
  }
 ],
 "metadata": {
  "kernelspec": {
   "display_name": "Python 3",
   "language": "python",
   "name": "python3"
  },
  "language_info": {
   "codemirror_mode": {
    "name": "ipython",
    "version": 3
   },
   "file_extension": ".py",
   "mimetype": "text/x-python",
   "name": "python",
   "nbconvert_exporter": "python",
   "pygments_lexer": "ipython3",
   "version": "3.8.3"
  }
 },
 "nbformat": 4,
 "nbformat_minor": 4
}
